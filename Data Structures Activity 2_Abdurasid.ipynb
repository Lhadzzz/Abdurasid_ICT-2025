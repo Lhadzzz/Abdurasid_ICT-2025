{
 "cells": [
  {
   "cell_type": "code",
   "execution_count": 4,
   "id": "9d5dde94-5547-41f1-a48a-47534280fa37",
   "metadata": {},
   "outputs": [
    {
     "name": "stdout",
     "output_type": "stream",
     "text": [
      "Matrix_A:\n",
      " [[26 21  2]\n",
      " [ 1  2  1]]\n",
      "Matrix_B:\n",
      " [[2 0 2]\n",
      " [5 5 7]]\n"
     ]
    }
   ],
   "source": [
    "#1.a.i\n",
    "import numpy as np\n",
    "matrix = np.array \n",
    "a = np.array ([[26,21,2],\n",
    "               [1,2,1]])\n",
    "b = np.array ([[2,0,2],\n",
    "               [5,5,7]])\n",
    "print (\"Matrix_A:\\n\",a)\n",
    "print (\"Matrix_B:\\n\",b)"
   ]
  },
  {
   "cell_type": "code",
   "execution_count": 6,
   "id": "cecf9854-4d3e-47de-baab-ec04aa18a774",
   "metadata": {},
   "outputs": [
    {
     "name": "stdout",
     "output_type": "stream",
     "text": [
      "Matrix_C:\n",
      " [[28 21  4]\n",
      " [ 6  7  8]]\n"
     ]
    }
   ],
   "source": [
    "#2.a\n",
    "c = (a+b)\n",
    "print (\"Matrix_C:\\n\",c)"
   ]
  },
  {
   "cell_type": "code",
   "execution_count": 8,
   "id": "ffc45672-0c9d-4ce4-8f78-f692bc9d5fda",
   "metadata": {},
   "outputs": [
    {
     "name": "stdout",
     "output_type": "stream",
     "text": [
      "Matrix_D:\n",
      " [[52 42  4]\n",
      " [ 2  4  2]]\n"
     ]
    }
   ],
   "source": [
    "#3.a\n",
    "d = a*2\n",
    "print (\"Matrix_D:\\n\",d)"
   ]
  },
  {
   "cell_type": "code",
   "execution_count": 9,
   "id": "09582945-d44a-4fa4-a30c-3bc93c437dde",
   "metadata": {},
   "outputs": [
    {
     "name": "stdout",
     "output_type": "stream",
     "text": [
      "Matrix_E:\n",
      " [[2 5]\n",
      " [0 5]\n",
      " [2 7]]\n"
     ]
    }
   ],
   "source": [
    "#4.a\n",
    "transposed_b = b.T\n",
    "print (\"Matrix_E:\\n\", transposed_b)"
   ]
  },
  {
   "cell_type": "code",
   "execution_count": 10,
   "id": "88631de5-c118-4196-8b2e-3de3f81f9df2",
   "metadata": {},
   "outputs": [
    {
     "name": "stdout",
     "output_type": "stream",
     "text": [
      "Matrix_F:\n",
      " [[ 64 273]\n",
      " [ 28 121]]\n"
     ]
    }
   ],
   "source": [
    "#5.a\n",
    "f = np.dot(c,transposed_b)\n",
    "print (\"Matrix_F:\\n\",f)"
   ]
  },
  {
   "cell_type": "code",
   "execution_count": 11,
   "id": "1330a2d3-c3cf-40c4-80cb-57929d953ff8",
   "metadata": {},
   "outputs": [
    {
     "name": "stdout",
     "output_type": "stream",
     "text": [
      "Sum_Matrix_C:\n",
      " 74\n"
     ]
    }
   ],
   "source": [
    "#6.a \n",
    "C = np.sum (c)\n",
    "print (\"Sum_Matrix_C:\\n\",C)"
   ]
  },
  {
   "cell_type": "code",
   "execution_count": 12,
   "id": "0eda9e04-c80a-4437-85b0-dfd46a6d4a7e",
   "metadata": {},
   "outputs": [
    {
     "name": "stdout",
     "output_type": "stream",
     "text": [
      "Matrix_G:\n",
      " [[0. 0. 0.]\n",
      " [0. 0. 0.]]\n"
     ]
    }
   ],
   "source": [
    "#7.a\n",
    "G = np.zeros((2,3))\n",
    "print (\"Matrix_G:\\n\",G)"
   ]
  },
  {
   "cell_type": "code",
   "execution_count": null,
   "id": "f5d360c7-d161-47ff-9f0e-bc21d2630e66",
   "metadata": {},
   "outputs": [],
   "source": []
  }
 ],
 "metadata": {
  "kernelspec": {
   "display_name": "Python 3 (ipykernel)",
   "language": "python",
   "name": "python3"
  },
  "language_info": {
   "codemirror_mode": {
    "name": "ipython",
    "version": 3
   },
   "file_extension": ".py",
   "mimetype": "text/x-python",
   "name": "python",
   "nbconvert_exporter": "python",
   "pygments_lexer": "ipython3",
   "version": "3.12.7"
  }
 },
 "nbformat": 4,
 "nbformat_minor": 5
}
